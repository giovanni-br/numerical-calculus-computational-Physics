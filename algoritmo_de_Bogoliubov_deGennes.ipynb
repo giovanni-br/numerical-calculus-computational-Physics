{
  "nbformat": 4,
  "nbformat_minor": 0,
  "metadata": {
    "colab": {
      "name": "algoritmo de Bogoliubov-deGennes",
      "provenance": []
    },
    "kernelspec": {
      "name": "python3",
      "display_name": "Python 3"
    },
    "language_info": {
      "name": "python"
    }
  },
  "cells": [
    {
      "cell_type": "markdown",
      "source": [
        "# Self-Consistent gap equation"
      ],
      "metadata": {
        "id": "K1-ZlzoU86E0"
      }
    },
    {
      "cell_type": "markdown",
      "source": [
        "$$\\Delta = \\lambda  \\int_{-Ec}^{Ec} \\Delta \\frac{tanh(\\frac {\\sqrt{\\xi^2 + |\\Delta|^2}}{2KbT})}{2\\sqrt{\\xi^2 + |\\Delta|^2}}d\\xi $$"
      ],
      "metadata": {
        "id": "VGfBA-d8m1XW"
      }
    },
    {
      "cell_type": "code",
      "execution_count": null,
      "metadata": {
        "id": "TNJO_w6NhxAw"
      },
      "outputs": [],
      "source": [
        "import numpy as np\n",
        "\n",
        "lam = 1\n",
        "Ec = 1000\n",
        "Kb = 1.38064852e-23\n",
        "T = 1e-7\n",
        "\n",
        "\n",
        "def simpson(f, a, b, N):\n",
        "  if N%2 == 1:\n",
        "    raise ValueError(\"N precisa ser par!\")\n",
        "  pares = 0\n",
        "  impares = 0\n",
        "  h = (b-a)/N\n",
        "  for i in range(1, int(N/2)+1):\n",
        "    impares += f(a + (2*i-1)*h)\n",
        "  for i in range(1, int(N/2)):\n",
        "    pares += f(a + 2*i*h) \n",
        "  return (h/3)*(f(a) + f(b) + 4*impares + 2*pares)\n",
        "def f(E):\n",
        "  return (lam*delta_in*np.tanh(np.sqrt(E**2 + abs(delta_in)**2)/(2*Kb*T)))/(2*(E**2 + abs(delta_in)**2)**(1/2))"
      ]
    },
    {
      "cell_type": "code",
      "source": [
        "delta_in = 1\n",
        "delta_fin = simpson(f, -Ec, Ec, 1000)\n",
        "delta_in_list = [delta_in]\n",
        "i = 0\n",
        "while (abs(delta_in- delta_fin)>1e-8):\n",
        "  delta_in = delta_fin\n",
        "  delta_fin = simpson(f, -Ec, Ec, 1000)\n",
        "  delta_in_list.append(delta_in)\n",
        "  i +=1"
      ],
      "metadata": {
        "id": "frc3mArYrbXZ"
      },
      "execution_count": null,
      "outputs": []
    },
    {
      "cell_type": "code",
      "source": [
        "delta_in_list"
      ],
      "metadata": {
        "colab": {
          "base_uri": "https://localhost:8080/"
        },
        "id": "YcnaTse3yiNp",
        "outputId": "cbf0921e-736d-4eaf-be5b-a731841f99a9"
      },
      "execution_count": null,
      "outputs": [
        {
          "output_type": "execute_result",
          "data": {
            "text/plain": [
              "[1,\n",
              " 7.528241627620433,\n",
              " 42.02455218903706,\n",
              " 162.34461301733188,\n",
              " 408.7359903912109,\n",
              " 665.0959116348004,\n",
              " 795.9380108381421,\n",
              " 836.986051083368,\n",
              " 847.5456284057111,\n",
              " 850.1111434569732,\n",
              " 850.7255691925632,\n",
              " 850.8722114110558,\n",
              " 850.9071808518422,\n",
              " 850.9155182870666,\n",
              " 850.9175060096896,\n",
              " 850.917979896047,\n",
              " 850.9180928734183,\n",
              " 850.9181198078883,\n",
              " 850.9181262292241,\n",
              " 850.9181277601085,\n",
              " 850.91812812508,\n",
              " 850.9181282120915,\n",
              " 850.9181282328356]"
            ]
          },
          "metadata": {},
          "execution_count": 98
        }
      ]
    },
    {
      "cell_type": "code",
      "source": [
        "import matplotlib.pyplot as plt\n",
        "\n",
        "plt.plot(range(i+1), delta_in_list)"
      ],
      "metadata": {
        "colab": {
          "base_uri": "https://localhost:8080/",
          "height": 284
        },
        "id": "fc2h7sI435pE",
        "outputId": "45f3e615-47a4-41b3-8343-88e9bc398ef9"
      },
      "execution_count": null,
      "outputs": [
        {
          "output_type": "execute_result",
          "data": {
            "text/plain": [
              "[<matplotlib.lines.Line2D at 0x7ff18a7ca810>]"
            ]
          },
          "metadata": {},
          "execution_count": 95
        },
        {
          "output_type": "display_data",
          "data": {
            "image/png": "[encoded data removed]",
            "text/plain": [
              "<Figure size 432x288 with 1 Axes>"
            ]
          },
          "metadata": {
            "needs_background": "light"
          }
        }
      ]
    }
  ]
}