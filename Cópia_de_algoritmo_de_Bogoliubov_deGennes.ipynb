{
  "nbformat": 4,
  "nbformat_minor": 0,
  "metadata": {
    "colab": {
      "name": "Cópia de algoritmo de Bogoliubov-deGennes",
      "provenance": [],
      "include_colab_link": true
    },
    "kernelspec": {
      "name": "python3",
      "display_name": "Python 3"
    },
    "language_info": {
      "name": "python"
    }
  },
  "cells": [
    {
      "cell_type": "markdown",
      "metadata": {
        "id": "view-in-github",
        "colab_type": "text"
      },
      "source": [
        "<a href=\"https://colab.research.google.com/github/giovanni-br/numerical-calculus-computational-Physics/blob/master/C%C3%B3pia_de_algoritmo_de_Bogoliubov_deGennes.ipynb\" target=\"_parent\"><img src=\"https://colab.research.google.com/assets/colab-badge.svg\" alt=\"Open In Colab\"/></a>"
      ]
    },
    {
      "cell_type": "markdown",
      "source": [
        "# Self-Consistent gap equation"
      ],
      "metadata": {
        "id": "K1-ZlzoU86E0"
      }
    },
    {
      "cell_type": "markdown",
      "source": [
        "$$\\Delta = \\lambda  \\int_{-Ec}^{Ec} \\Delta \\frac{tanh(\\frac {\\sqrt{\\xi^2 + |\\Delta|^2}}{2K_{b}T})}{2\\sqrt{\\xi^2 + |\\Delta|^2}}d\\xi $$"
      ],
      "metadata": {
        "id": "VGfBA-d8m1XW"
      }
    },
    {
      "cell_type": "code",
      "execution_count": null,
      "metadata": {
        "id": "TNJO_w6NhxAw"
      },
      "outputs": [],
      "source": [
        "import numpy as np\n",
        "\n",
        "lam = 0.17\n",
        "Ec = 1000\n",
        "Kb= 1.38064852e-23\n",
        "from scipy.integrate import quad\n",
        "\n",
        "\n",
        "#compute simpson integrate of a function\n",
        "def simpson(f, a, b, N):\n",
        "  if N%2 == 1:\n",
        "    raise ValueError(\"N precisa ser par!\")\n",
        "  pares = 0\n",
        "  impares = 0\n",
        "  h = (b-a)/N\n",
        "  for i in range(1, int(N/2)+1):\n",
        "    impares += f(a + (2*i-1)*h)\n",
        "  for i in range(1, int(N/2)):\n",
        "    pares += f(a + 2*i*h) \n",
        "  return (h/3)*(f(a) + f(b) + 4*impares + 2*pares)\n",
        "\n",
        "def f(E):\n",
        "  return (lam*delta_in*np.tanh(np.sqrt(E**2 + abs(delta_in)**2)/(2*Kb*T)))/(2*np.sqrt((E**2 + abs(delta_in)**2)))"
      ]
    },
    {
      "cell_type": "code",
      "source": [
        "Kb= 1\n",
        "\n",
        "delta_in = 10\n",
        "T_vetor = np.linspace(0,30, 1000)\n",
        "delta_fin_list =[]\n",
        "for i in T_vetor:\n",
        "  T=i\n",
        "  delta_in = 1\n",
        "  delta_fin = quad(f, -Ec, Ec)\n",
        "  delta_in_list = [delta_in]\n",
        "  while (abs(delta_in- delta_fin[0])>1e-6):\n",
        "    delta_in = delta_fin[0]\n",
        "    delta_fin = quad(f, -Ec, Ec)\n",
        "    delta_in_list.append(delta_in)\n",
        "  delta_fin_list.append(delta_fin[0])"
      ],
      "metadata": {
        "id": "f6QWxK5kr3gf",
        "colab": {
          "base_uri": "https://localhost:8080/"
        },
        "outputId": "89ac8398-e2fb-4e76-cad9-2e269b833bb1"
      },
      "execution_count": null,
      "outputs": [
        {
          "output_type": "stream",
          "name": "stderr",
          "text": [
            "/usr/local/lib/python3.7/dist-packages/ipykernel_launcher.py:23: RuntimeWarning: divide by zero encountered in double_scalars\n"
          ]
        }
      ]
    },
    {
      "cell_type": "code",
      "source": [
        "import matplotlib.pyplot as plt\n",
        "delta_fin_list = np.array(delta_fin_list)\n",
        "plt.plot(T_vetor, delta_fin_list)\n",
        "plt.ylabel('$\\Delta$')\n",
        "plt.xlabel('$T$')\n",
        "plt.vlines(3.16, 0 ,6)\n",
        "plt.show()"
      ],
      "metadata": {
        "colab": {
          "base_uri": "https://localhost:8080/",
          "height": 281
        },
        "id": "CIum5c3abz0j",
        "outputId": "7a006c97-7852-48ea-ea1b-3e064f5fc162"
      },
      "execution_count": null,
      "outputs": [
        {
          "output_type": "display_data",
          "data": {
            "text/plain": [
              "<Figure size 432x288 with 1 Axes>"
            ],
            "image/png": "[encoded data removed]"
          },
          "metadata": {
            "needs_background": "light"
          }
        }
      ]
    }
  ]
}