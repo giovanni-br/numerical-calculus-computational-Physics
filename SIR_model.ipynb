{
  "nbformat": 4,
  "nbformat_minor": 0,
  "metadata": {
    "colab": {
      "name": "SIR model",
      "provenance": []
    },
    "kernelspec": {
      "name": "python3",
      "display_name": "Python 3"
    },
    "language_info": {
      "name": "python"
    }
  },
  "cells": [
    {
      "cell_type": "code",
      "execution_count": null,
      "metadata": {
        "id": "mUlPQCeiRF74"
      },
      "outputs": [],
      "source": [
        "import numpy as np\n",
        "import matplotlib.pyplot as plt\n",
        "\n",
        "\n",
        "gama = 0.5\n",
        "beta = 1.2 \n",
        "deltat = 0.01\n",
        "\n",
        "def Su(S, I, N):\n",
        "  return -S*I*beta/N\n",
        "def In(S, I, N):\n",
        "  return S*I*beta/N - gama*I\n",
        "def Re(S, I, N):\n",
        "  return gama*I\n",
        "\n",
        "t = np.zeros(2000)\n",
        "S = np.copy(t)\n",
        "I = np.copy(t)\n",
        "R = np.copy(t)\n",
        "N = 100\n",
        "R[0] = 0\n",
        "I[0] = 1\n",
        "S[0] = N - I[0]\n",
        "\n",
        "\n",
        "\n",
        "for i in range(len(t)-1):\n",
        "  S[i+1] = S[i] + deltat*Su(S[i], I[i], N)\n",
        "  I[i+1] = I[i] + deltat*In(S[i], I[i], N)\n",
        "  R[i+1] = R[i] + deltat*Re(S[i], I[i], N)\n",
        "  t[i+1] = t[i] + deltat\n",
        "\n",
        "\n",
        "plt.plot(t, S, label = 'S')\n",
        "plt.plot(t, R, label = 'R')\n",
        "plt.plot(t, I, label = 'I')\n",
        "plt.plot(t, I+R+S, label = 'total')\n",
        "plt.legend()\n",
        "plt.show()"
      ]
    }
  ]
}