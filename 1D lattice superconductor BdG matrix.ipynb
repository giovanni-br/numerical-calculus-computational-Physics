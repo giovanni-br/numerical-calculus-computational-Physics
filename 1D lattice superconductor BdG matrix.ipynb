{
  "nbformat": 4,
  "nbformat_minor": 0,
  "metadata": {
    "colab": {
      "provenance": []
    },
    "kernelspec": {
      "name": "python3",
      "display_name": "Python 3"
    },
    "language_info": {
      "name": "python"
    }
  },
  "cells": [
    {
      "cell_type": "markdown",
      "source": [
        "# Self-Consistent gap equation\n",
        "$$\\Delta = \\lambda  \\int_{-Ec}^{Ec} \\Delta \\frac{tanh(\\frac {\\sqrt{\\xi^2 + |\\Delta|^2}}{2K_{b}T})}{2\\sqrt{\\xi^2 + |\\Delta|^2}}d\\xi $$\n",
        "\n",
        "$$H = \\sum_{<i,j>} t_{ij} c^{†}_{ij}  c_{ij} + \\sum_{<i, j>} \\Delta_{ij}c^{†}_{i} c^{†}_{j} + \\sum_{<i, j>} \\Delta_{ij} c_{i} c_{j}$$\n",
        "\n",
        "By induction, we can can generalize a matrix for a 1-dimensional superconductor lattice without boundary conditions. This code represents its implementation with Scipy Sparse Matrices.\n",
        "\n",
        "\n"
      ],
      "metadata": {
        "id": "4FbaOQhg0wsF"
      }
    },
    {
      "cell_type": "code",
      "source": [
        "import scipy.sparse as sps\n",
        "import numpy as np\n",
        "#cuidar numero de sítios\n",
        "def BdG_Hamiltonian(n, t =1, delta_in = 5):\n",
        "  rows, cols = 2*n, 2*n\n",
        "  hopping = sps.coo_matrix((rows, cols))\n",
        "\n",
        "\n",
        "  values = t*np.ones(2*n-1)\n",
        "  hopping.setdiag(values, k=1)\n",
        "  #hopping = csc_matrix(hopping)\n",
        "  hopping = hopping.T + hopping\n",
        "\n",
        "\n",
        "  delta = sps.coo_matrix((rows, cols))\n",
        "  b = [delta_in for  i in range(n+1)] \n",
        "  b[0], b[-1] = 0, 0\n",
        "  delta.setdiag(b, k = n-1)\n",
        "  b = b[1:-1] \n",
        "  b = np.array(b)\n",
        "  delta.setdiag(-b, n-1+2)\n",
        "\n",
        "  delta = delta + delta.T\n",
        "\n",
        "  f = delta + hopping\n",
        "\n",
        "\n",
        "  return f, f.toarray()"
      ],
      "metadata": {
        "id": "9z9jjgGBh0Hc"
      },
      "execution_count": null,
      "outputs": []
    },
    {
      "cell_type": "code",
      "source": [
        "BdG_Hamiltonian(5)"
      ],
      "metadata": {
        "colab": {
          "base_uri": "https://localhost:8080/"
        },
        "id": "qlaCPfWZi_aX",
        "outputId": "6426509d-8f45-483d-b12a-6b7ba05f3bb1"
      },
      "execution_count": null,
      "outputs": [
        {
          "output_type": "execute_result",
          "data": {
            "text/plain": [
              "(<10x10 sparse matrix of type '<class 'numpy.float64'>'\n",
              " \twith 34 stored elements in Compressed Sparse Row format>,\n",
              " array([[ 0.,  1.,  0.,  0.,  0.,  0., -5.,  0.,  0.,  0.],\n",
              "        [ 1.,  0.,  1.,  0.,  0.,  5.,  0., -5.,  0.,  0.],\n",
              "        [ 0.,  1.,  0.,  1.,  0.,  0.,  5.,  0., -5.,  0.],\n",
              "        [ 0.,  0.,  1.,  0.,  1.,  0.,  0.,  5.,  0., -5.],\n",
              "        [ 0.,  0.,  0.,  1.,  0.,  1.,  0.,  0.,  5.,  0.],\n",
              "        [ 0.,  5.,  0.,  0.,  1.,  0.,  1.,  0.,  0.,  0.],\n",
              "        [-5.,  0.,  5.,  0.,  0.,  1.,  0.,  1.,  0.,  0.],\n",
              "        [ 0., -5.,  0.,  5.,  0.,  0.,  1.,  0.,  1.,  0.],\n",
              "        [ 0.,  0., -5.,  0.,  5.,  0.,  0.,  1.,  0.,  1.],\n",
              "        [ 0.,  0.,  0., -5.,  0.,  0.,  0.,  0.,  1.,  0.]]))"
            ]
          },
          "metadata": {},
          "execution_count": 33
        }
      ]
    }
  ]
}