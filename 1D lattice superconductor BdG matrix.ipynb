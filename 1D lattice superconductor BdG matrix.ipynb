
  "nbformat": 4,
  "nbformat_minor": 0,
  "metadata": {
    "colab": {
      "provenance": []
    },
    "kernelspec": {
      "name": "python3",
      "display_name": "Python 3"
    },
    "language_info": {
      "name": "python"
    }
  },
  "cells": [
    {
      "cell_type": "markdown",
      "source": [
        "# Self-Consistent gap equation\n",
        "$$\\Delta = \\lambda  \\int_{-Ec}^{Ec} \\Delta \\frac{tanh(\\frac {\\sqrt{\\xi^2 + |\\Delta|^2}}{2K_{b}T})}{2\\sqrt{\\xi^2 + |\\Delta|^2}}d\\xi $$\n",
        "\n",
        "$$H = \\sum_{<i,j>} t_{ij} c^{†}_{ij}  c_{ij} + \\sum_{<i, j>} \\Delta_{ij}c^{†}_{i} c^{†}_{j} + \\sum_{<i, j>} \\Delta_{ij} c_{i} c_{j}$$\n",
        "\n",
        "By induction, we can can generalize a matrix for a 1-dimensional superconductor lattice without boundary conditions. This code represents its implementation with Scipy Sparse Matrices.\n",
        "\n",
        "\n"
      ],
      "metadata": {
        "id": "4FbaOQhg0wsF"
      }
    },
    {
      "cell_type": "code",
      "source": [
        "import scipy.sparse as sps\n",
        "import numpy as np\n",
        "#cuidar numero de sítios\n",
        "def BdG_Hamiltonian(n, t =1, delta_in = 5):\n",
        "  rows, cols = 2*n, 2*n\n",
        "  hopping = sps.coo_matrix((rows, cols))\n",
        "\n",
        "\n",
        "  values = t*np.ones(2*n-1)\n",
        "  hopping.setdiag(values, k=1)\n",
        "  #hopping = csc_matrix(hopping)\n",
        "  hopping = hopping.T + hopping\n",
        "\n",
        "\n",
        "  delta = sps.coo_matrix((rows, cols))\n",
        "  b = [delta_in for  i in range(n+1)] \n",
        "  b[0], b[-1] = 0, 0\n",
        "  delta.setdiag(b, k = n-1)\n",
        "  b = b[1:-1] \n",
        "  b = np.array(b)\n",
        "  delta.setdiag(-b, n-1+2)\n",
        "\n",
        "  delta = delta + delta.T\n",
        "\n",
        "  f = delta + hopping\n",
        "\n",
        "\n",
        "  return f, f.toarray()"
      ],
      "metadata": {
        "id": "9z9jjgGBh0Hc"
      },
      "execution_count": 1,
      "outputs": []
    },
    {
      "cell_type": "code",
      "source": [
        "BdG_Hamiltonian(5)"
      ],
      "metadata": {
        "colab": {
          "base_uri": "https://localhost:8080/"
        },
        "id": "qlaCPfWZi_aX",
        "outputId": "948688f0-c8fb-48da-97ef-34e9f183572e"
      },
      "execution_count": 3,
      "outputs": [
        {
          "output_type": "execute_result",
          "data": {
            "text/plain": [
              "(<10x10 sparse matrix of type '<class 'numpy.float64'>'\n",
              " \twith 34 stored elements in Compressed Sparse Row format>,\n",
              " array([[ 0.,  1.,  0.,  0.,  0.,  0., -5.,  0.,  0.,  0.],\n",
              "        [ 1.,  0.,  1.,  0.,  0.,  5.,  0., -5.,  0.,  0.],\n",
              "        [ 0.,  1.,  0.,  1.,  0.,  0.,  5.,  0., -5.,  0.],\n",
              "        [ 0.,  0.,  1.,  0.,  1.,  0.,  0.,  5.,  0., -5.],\n",
              "        [ 0.,  0.,  0.,  1.,  0.,  1.,  0.,  0.,  5.,  0.],\n",
              "        [ 0.,  5.,  0.,  0.,  1.,  0.,  1.,  0.,  0.,  0.],\n",
              "        [-5.,  0.,  5.,  0.,  0.,  1.,  0.,  1.,  0.,  0.],\n",
              "        [ 0., -5.,  0.,  5.,  0.,  0.,  1.,  0.,  1.,  0.],\n",
              "        [ 0.,  0., -5.,  0.,  5.,  0.,  0.,  1.,  0.,  1.],\n",
              "        [ 0.,  0.,  0., -5.,  0.,  0.,  0.,  0.,  1.,  0.]]))"
            ]
          },
          "metadata": {},
          "execution_count": 3
        }
      ]
    },
    {
      "cell_type": "code",
      "source": [
        "from scipy.sparse.linalg import eigsh\n",
        "eigenvalues, eigenvectors = eigsh(BdG_Hamiltonian(5)[0])\n",
        "eigenvalues"
      ],
      "metadata": {
        "colab": {
          "base_uri": "https://localhost:8080/"
        },
        "id": "8syFItEr2zNa",
        "outputId": "99fddcbe-c673-4598-d7e0-3389100e5c18"
      },
      "execution_count": 5,
      "outputs": [
        {
          "output_type": "execute_result",
          "data": {
            "text/plain": [
              "array([-8.98925713, -8.81090027, -5.1785242 ,  5.54992649,  8.70209316,\n",
              "        8.86040745])"
            ]
          },
          "metadata": {},
          "execution_count": 5
        }
      ]
    },
    {
      "cell_type": "code",
      "source": [
        "eigenvectors"
      ],
      "metadata": {
        "id": "SlO6Fx7M3tE-",
        "outputId": "892264a8-3002-4110-ef90-e4287a028f24",
        "colab": {
          "base_uri": "https://localhost:8080/"
        }
      },
      "execution_count": 6,
      "outputs": [
        {
          "output_type": "execute_result",
          "data": {
            "text/plain": [
              "array([[-0.1014399 , -0.26970547,  0.45826493,  0.18413699, -0.11741712,\n",
              "        -0.26292318],\n",
              "       [-0.41768541,  0.27038356, -0.25882356, -0.38643237,  0.41350133,\n",
              "        -0.28647357],\n",
              "       [ 0.3971136 ,  0.40957126, -0.02674673, -0.02600493,  0.4170524 ,\n",
              "         0.40603706],\n",
              "       [ 0.26591094, -0.42119288, -0.42286249, -0.28167582, -0.28705521,\n",
              "         0.40862658],\n",
              "       [-0.29468798, -0.09486641, -0.20850791, -0.48656559, -0.24268597,\n",
              "        -0.13024023],\n",
              "       [ 0.29468798, -0.09486641,  0.20850791, -0.48656559,  0.24268597,\n",
              "        -0.13024023],\n",
              "       [-0.26591094, -0.42119288,  0.42286249, -0.28167582,  0.28705521,\n",
              "         0.40862658],\n",
              "       [-0.3971136 ,  0.40957126,  0.02674673, -0.02600493, -0.4170524 ,\n",
              "         0.40603706],\n",
              "       [ 0.41768541,  0.27038356,  0.25882356, -0.38643237, -0.41350133,\n",
              "        -0.28647357],\n",
              "       [ 0.1014399 , -0.26970547, -0.45826493,  0.18413699,  0.11741712,\n",
              "        -0.26292318]])"
            ]
          },
          "metadata": {},
          "execution_count": 6
        }
      ]
    }
  ]
}
